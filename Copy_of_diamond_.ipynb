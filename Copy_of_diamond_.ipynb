{
  "nbformat": 4,
  "nbformat_minor": 0,
  "metadata": {
    "colab": {
      "provenance": [],
      "authorship_tag": "ABX9TyMlh7Po78I4Nf9ZsxBpeS9V",
      "include_colab_link": true
    },
    "kernelspec": {
      "name": "python3",
      "display_name": "Python 3"
    },
    "language_info": {
      "name": "python"
    }
  },
  "cells": [
    {
      "cell_type": "markdown",
      "metadata": {
        "id": "view-in-github",
        "colab_type": "text"
      },
      "source": [
        "<a href=\"https://colab.research.google.com/github/raziarasheed/-Password-Generator-Python-Project/blob/main/Copy_of_diamond_.ipynb\" target=\"_parent\"><img src=\"https://colab.research.google.com/assets/colab-badge.svg\" alt=\"Open In Colab\"/></a>"
      ]
    },
    {
      "cell_type": "code",
      "execution_count": null,
      "metadata": {
        "colab": {
          "base_uri": "https://localhost:8080/"
        },
        "id": "YEauPuWx1in-",
        "outputId": "d82a6174-590d-4ebd-9b64-ba181df9c4fb"
      },
      "outputs": [
        {
          "output_type": "stream",
          "name": "stdout",
          "text": [
            "enter the number of rows: 5\n",
            " \n",
            " *\n",
            " **\n",
            " ***\n",
            " ****\n",
            " *****\n",
            " ******\n"
          ]
        }
      ],
      "source": [
        "rows = int(input(\"enter the number of rows: \"))\n",
        "for i in range(1+rows+1):\n",
        "  s=rows -i\n",
        "  print(\"\"*s, \"*\"*i)"
      ]
    },
    {
      "cell_type": "code",
      "source": [
        "from google.colab import drive\n",
        "drive.mount('/content/drive')"
      ],
      "metadata": {
        "id": "uO7Ly23HKeoZ"
      },
      "execution_count": null,
      "outputs": []
    },
    {
      "cell_type": "code",
      "source": [],
      "metadata": {
        "id": "6B0NoSPQ6AK4"
      },
      "execution_count": null,
      "outputs": []
    },
    {
      "cell_type": "code",
      "source": [
        "rows =int(input(\"enter the number of rows: \"))\n",
        "for i in range(0,rows):\n",
        "  s=rows-i\n",
        "\n",
        "  print(\" \"*i, \"*\"*s)"
      ],
      "metadata": {
        "colab": {
          "base_uri": "https://localhost:8080/"
        },
        "id": "UssBEIIu3H5i",
        "outputId": "d31a1ad3-fa25-4cb4-ae7b-a43b9e75d4b3"
      },
      "execution_count": null,
      "outputs": [
        {
          "output_type": "stream",
          "name": "stdout",
          "text": [
            "enter the number of rows: 5\n",
            " *****\n",
            "  ****\n",
            "   ***\n",
            "    **\n",
            "     *\n"
          ]
        }
      ]
    },
    {
      "cell_type": "code",
      "source": [
        "rows = int(input(\"Enter the number of rows: \"))\n",
        "for i in range(0, rows):\n",
        "    print(\"*\" * (i + 1))\n"
      ],
      "metadata": {
        "colab": {
          "base_uri": "https://localhost:8080/"
        },
        "id": "5bXFIZBA6B1J",
        "outputId": "b635e0c1-1382-47e5-c0cf-3fdd8dd74138"
      },
      "execution_count": null,
      "outputs": [
        {
          "output_type": "stream",
          "name": "stdout",
          "text": [
            "Enter the number of rows: 5\n",
            "*\n",
            "**\n",
            "***\n",
            "****\n",
            "*****\n"
          ]
        }
      ]
    },
    {
      "cell_type": "code",
      "source": [
        "rows = int(input(\"Enter the number of rows: \"))\n",
        "for i in range(rows, 0, -1):\n",
        "    print(\"*\" * i)"
      ],
      "metadata": {
        "colab": {
          "base_uri": "https://localhost:8080/"
        },
        "id": "-TN-EfvR8eS-",
        "outputId": "5b1320f2-17ac-4579-d788-304ade1151f9"
      },
      "execution_count": null,
      "outputs": [
        {
          "output_type": "stream",
          "name": "stdout",
          "text": [
            "Enter the number of rows: 5\n",
            "*****\n",
            "****\n",
            "***\n",
            "**\n",
            "*\n"
          ]
        }
      ]
    },
    {
      "cell_type": "code",
      "source": [
        "rows = int(input(\"Enter the number of rows (half of diamond height): \"))\n",
        "\n",
        "# Upper half (increasing)\n",
        "for i in range(1, rows + 1):\n",
        "    print(\"*\" * i)\n",
        "\n",
        "# Lower half (decreasing)\n",
        "for i in range(rows - 1, 0, -1):\n",
        "    print(\"*\" * i)"
      ],
      "metadata": {
        "colab": {
          "base_uri": "https://localhost:8080/"
        },
        "id": "bpra7OEJ8nIz",
        "outputId": "76c8624e-6d20-475a-8b5a-6db820851f77"
      },
      "execution_count": null,
      "outputs": [
        {
          "output_type": "stream",
          "name": "stdout",
          "text": [
            "Enter the number of rows (half of diamond height): 5\n",
            "*\n",
            "**\n",
            "***\n",
            "****\n",
            "*****\n",
            "****\n",
            "***\n",
            "**\n",
            "*\n"
          ]
        }
      ]
    },
    {
      "cell_type": "code",
      "source": [
        "rows = int(input(\"Enter the no of rows:\"))\n",
        "for i in range(1, rows,1):\n",
        "  print(\" \"*s,\"#\"*i)\n",
        "for i in range(rows, 0, -1):\n",
        "  print(\" \"*s,\"#\"*i)"
      ],
      "metadata": {
        "colab": {
          "base_uri": "https://localhost:8080/"
        },
        "id": "dOhEmSls9zc8",
        "outputId": "cf4fb084-5e15-45f8-f67b-745c179a6dcf"
      },
      "execution_count": null,
      "outputs": [
        {
          "output_type": "stream",
          "name": "stdout",
          "text": [
            "Enter the no of rows:5\n",
            "  #\n",
            "  ##\n",
            "  ###\n",
            "  ####\n",
            "  #####\n",
            "  ####\n",
            "  ###\n",
            "  ##\n",
            "  #\n"
          ]
        }
      ]
    },
    {
      "cell_type": "code",
      "source": [
        "rows = int(input(\"Enter the number of rows (height of diamond): \"))\n",
        "\n",
        "# Upper half (including the middle row)\n",
        "for i in range(1, rows + 1):\n",
        "    spaces = \" \" * (rows - i)\n",
        "    stars = \"*\" * (2 * i - 1)\n",
        "    print(spaces + stars)\n",
        "\n",
        "# Lower half (below the middle row)\n",
        "for i in range(rows - 1, 0, -1):\n",
        "    spaces = \" \" * (rows - i)\n",
        "    stars = \"*\" * (2 * i - 1)\n",
        "    print(spaces + stars)"
      ],
      "metadata": {
        "colab": {
          "base_uri": "https://localhost:8080/"
        },
        "id": "5ZOH7MCdDWs9",
        "outputId": "d0b60fbd-08fd-42b8-c594-a8d9e5e95ce8"
      },
      "execution_count": null,
      "outputs": [
        {
          "output_type": "stream",
          "name": "stdout",
          "text": [
            "Enter the number of rows (height of diamond): 4\n",
            "   *\n",
            "  ***\n",
            " *****\n",
            "*******\n",
            " *****\n",
            "  ***\n",
            "   *\n"
          ]
        }
      ]
    },
    {
      "cell_type": "code",
      "source": [],
      "metadata": {
        "id": "lZRVHvvLFkb2"
      },
      "execution_count": null,
      "outputs": []
    }
  ]
}