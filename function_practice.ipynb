{
  "cells": [
    {
      "cell_type": "markdown",
      "metadata": {
        "id": "view-in-github",
        "colab_type": "text"
      },
      "source": [
        "<a href=\"https://colab.research.google.com/github/raziarasheed/-Password-Generator-Python-Project/blob/main/function_practice.ipynb\" target=\"_parent\"><img src=\"https://colab.research.google.com/assets/colab-badge.svg\" alt=\"Open In Colab\"/></a>"
      ]
    },
    {
      "cell_type": "code",
      "execution_count": null,
      "metadata": {
        "colab": {
          "base_uri": "https://localhost:8080/"
        },
        "id": "7kozjpxjjZwB",
        "outputId": "3bcf2043-6b5b-4c53-cad2-21b2c0885715"
      },
      "outputs": [
        {
          "name": "stdout",
          "output_type": "stream",
          "text": [
            "1\n",
            "2\n",
            "3\n",
            "4\n",
            "5\n",
            "6\n",
            "7\n",
            "8\n",
            "9\n"
          ]
        }
      ],
      "source": [
        "i =1\n",
        "while i<10:\n",
        "  print(i)\n",
        "  i= i+1\n"
      ]
    },
    {
      "cell_type": "code",
      "execution_count": null,
      "metadata": {
        "colab": {
          "base_uri": "https://localhost:8080/"
        },
        "id": "NkaUrEi2mZye",
        "outputId": "4bac0a3f-18c3-436d-9ea2-76ff972fe97c"
      },
      "outputs": [
        {
          "name": "stdout",
          "output_type": "stream",
          "text": [
            "Your number is 6\n",
            "What do you think computer no is hogher or lower:higher\n",
            "higher higher\n",
            "You Won\n",
            "Your score is: 1\n",
            "The computer Number is 100\n"
          ]
        }
      ],
      "source": [
        "import random\n",
        "score = 0\n",
        "user = random.randint(1,100)\n",
        "computer = random.randint(1,100)\n",
        "print(\"Your number is\",user)\n",
        "choice = input(\"What do you think computer no is hogher or lower:\")\n",
        "if choice == \"higher\" or choice == \"lower\" or choice == \"Higher\" or choice==\"Lower\":\n",
        "  if user > computer:\n",
        "   actual =\"lower\"\n",
        "\n",
        "  elif user<computer:\n",
        "   actual =\"higher\"\n",
        "  print(choice,actual)\n",
        "\n",
        "  if choice == actual:\n",
        "    score = score+1\n",
        "\n",
        "    print(\"You Won\")\n",
        "    print(\"Your score is:\" , score)\n",
        "    print(\"The computer Number is\", computer)\n",
        "  else:\n",
        "   print(\"You Lost\")\n",
        "\n",
        "else:\n",
        " print(\"Invalid Input\")"
      ]
    },
    {
      "cell_type": "code",
      "execution_count": null,
      "metadata": {
        "id": "J-pNDJibvShP"
      },
      "outputs": [],
      "source": [
        "def sum(num1,num2):\n",
        "  sum = num1+num2\n",
        "  return(sum)\n",
        "\n",
        "def minus(num1,num2):\n",
        "  minus = num1-num2\n",
        "  return(minus)\n",
        "\n",
        "def multiply(num1,num2):\n",
        "  multiply = num1*num2\n",
        "  return(multiply)\n",
        "\n",
        "def divide(num1,num2):\n",
        "\n",
        "  divide = num1/num2\n",
        "  return(divide)"
      ]
    },
    {
      "cell_type": "code",
      "execution_count": null,
      "metadata": {
        "colab": {
          "base_uri": "https://localhost:8080/"
        },
        "id": "fTDUxgwY50f6",
        "outputId": "424199e9-f09e-466e-ebb1-2f9b9f5c4939"
      },
      "outputs": [
        {
          "name": "stdout",
          "output_type": "stream",
          "text": [
            "Enter your number1 :5\n",
            "Enter your number2 :8\n",
            "Select Between(sum,minus,multiply,divide)multiply\n",
            "The answer is 40\n"
          ]
        }
      ],
      "source": [
        "num1 = int(input(\"Enter your number1 :\"))\n",
        "num2 = int(input(\"Enter your number2 :\"))\n",
        "user = input(\"Select Between(sum,minus,multiply,divide)\")\n",
        "if user == \"sum\":\n",
        "  ans =sum(num1,num2)# return ko value dainey ka liye hum na yaha variable bnaya hai\n",
        "elif user == \"minus\":\n",
        "  ans =minus(num1,num2)\n",
        "elif user == \"multiply\":\n",
        "  ans = multiply(num1,num2)\n",
        "elif user == \"divide\":\n",
        " ans = divide(num1,num2)\n",
        "\n",
        "print(\"The answer is\",ans)"
      ]
    },
    {
      "cell_type": "code",
      "execution_count": null,
      "metadata": {
        "id": "hrpks6MFWj-y"
      },
      "outputs": [],
      "source": [
        "def find(user,computer):\n",
        " if user>computer:\n",
        "  actual = \"lower\"\n",
        " elif user<computer:\n",
        "  actual = \"higher\"\n",
        "  print(choice,actual)\n",
        "  return actual\n",
        "def compare(choice,actual):\n",
        "  score =0\n",
        "  if choice== actual:\n",
        "   score = score+1\n",
        "   print(\"you won\")\n",
        "   print(\"The score  is\",score)\n",
        "   print(\"The computer number is:computer\")\n",
        "  else:\n",
        "      print(\"you lost\")\n",
        "\n"
      ]
    },
    {
      "cell_type": "code",
      "execution_count": null,
      "metadata": {
        "colab": {
          "base_uri": "https://localhost:8080/",
          "height": 263
        },
        "id": "w3Qu58BZ68iE",
        "outputId": "ea329294-c404-4fd7-dd03-8f08a7724b59"
      },
      "outputs": [
        {
          "name": "stdout",
          "output_type": "stream",
          "text": [
            "The number is 27\n",
            "Enter the computer number which is higher or lower: lower\n"
          ]
        },
        {
          "ename": "TypeError",
          "evalue": "'tuple' object is not callable",
          "output_type": "error",
          "traceback": [
            "\u001b[0;31m---------------------------------------------------------------------------\u001b[0m",
            "\u001b[0;31mTypeError\u001b[0m                                 Traceback (most recent call last)",
            "\u001b[0;32m<ipython-input-24-badd4dd53f68>\u001b[0m in \u001b[0;36m<cell line: 0>\u001b[0;34m()\u001b[0m\n\u001b[1;32m      7\u001b[0m \u001b[0;32mif\u001b[0m \u001b[0mchoice\u001b[0m \u001b[0;34m==\u001b[0m \u001b[0;34m\"higher\"\u001b[0m \u001b[0;32mor\u001b[0m \u001b[0mchoice\u001b[0m \u001b[0;34m==\u001b[0m \u001b[0;34m\"lower\"\u001b[0m \u001b[0;32mor\u001b[0m \u001b[0mchoice\u001b[0m \u001b[0;34m==\u001b[0m \u001b[0;34m\"Higher\"\u001b[0m \u001b[0;32mor\u001b[0m \u001b[0mchoice\u001b[0m \u001b[0;34m==\u001b[0m \u001b[0;34m\"Lower\"\u001b[0m\u001b[0;34m:\u001b[0m\u001b[0;34m\u001b[0m\u001b[0;34m\u001b[0m\u001b[0m\n\u001b[1;32m      8\u001b[0m  \u001b[0mactual\u001b[0m\u001b[0;34m=\u001b[0m\u001b[0mfind\u001b[0m\u001b[0;34m(\u001b[0m\u001b[0muser\u001b[0m\u001b[0;34m,\u001b[0m\u001b[0mcomputer\u001b[0m\u001b[0;34m)\u001b[0m\u001b[0;34m\u001b[0m\u001b[0;34m\u001b[0m\u001b[0m\n\u001b[0;32m----> 9\u001b[0;31m  \u001b[0mcompare\u001b[0m\u001b[0;34m(\u001b[0m\u001b[0mchoice\u001b[0m\u001b[0;34m,\u001b[0m\u001b[0mactual\u001b[0m\u001b[0;34m)\u001b[0m\u001b[0;34m\u001b[0m\u001b[0;34m\u001b[0m\u001b[0m\n\u001b[0m\u001b[1;32m     10\u001b[0m \u001b[0;34m\u001b[0m\u001b[0m\n\u001b[1;32m     11\u001b[0m \u001b[0;32melse\u001b[0m\u001b[0;34m:\u001b[0m\u001b[0;34m\u001b[0m\u001b[0;34m\u001b[0m\u001b[0m\n",
            "\u001b[0;31mTypeError\u001b[0m: 'tuple' object is not callable"
          ]
        }
      ],
      "source": [
        "import random\n",
        "\n",
        "user = random.randint(1,100)\n",
        "computer = random.randint(1,100)\n",
        "print(\"The number is\",user)\n",
        "choice = input(\"Enter the computer number which is higher or lower: \")\n",
        "if choice == \"higher\" or choice == \"lower\" or choice == \"Higher\" or choice == \"Lower\":\n",
        " actual=find(user,computer)\n",
        " compare(choice,actual)\n",
        "\n",
        "else:\n",
        "   print(\"Invalid input\")\n"
      ]
    },
    {
      "cell_type": "code",
      "execution_count": null,
      "metadata": {
        "id": "hDtQlhw4OoyH"
      },
      "outputs": [],
      "source": [
        "def find(user,computer):\n",
        " if user>computer:\n",
        "  actual = \"lower\"\n",
        " elif user<computer:\n",
        "  actual = \"higher\"\n",
        "  print(choice,actual)\n",
        "  return actual\n"
      ]
    },
    {
      "cell_type": "code",
      "execution_count": null,
      "metadata": {
        "colab": {
          "base_uri": "https://localhost:8080/"
        },
        "id": "xOYvXoKoeOaF",
        "outputId": "8bbfbd40-076c-4ee2-d70f-6acda8d7b57d"
      },
      "outputs": [
        {
          "name": "stdout",
          "output_type": "stream",
          "text": [
            "enter a  number6\n",
            "userinput 6 index in number 2\n"
          ]
        }
      ],
      "source": [
        "list1 = [4,5,6,7,8,9,8,9,7,5,8,9]\n",
        "userinputnumber = int(input(\"enter a  number\"))\n",
        "def number(userinputnumber,list1):\n",
        "  if(userinputnumber in list1):\n",
        "    index = list1.index(userinputnumber)\n",
        "    print(\"userinput\" , userinputnumber , \"index in number\", index )\n",
        "  else:\n",
        "    print(\"number not found\")\n",
        "number(userinputnumber,list1)"
      ]
    },
    {
      "cell_type": "code",
      "execution_count": null,
      "metadata": {
        "colab": {
          "base_uri": "https://localhost:8080/"
        },
        "id": "sFC25ZRZOn_g",
        "outputId": "ac4dd8f9-781a-46ad-cdd4-7b0f1a2759a1"
      },
      "outputs": [
        {
          "name": "stdout",
          "output_type": "stream",
          "text": [
            "Duplicate numbers are: [7, 8, 9]\n"
          ]
        },
        {
          "name": "stderr",
          "output_type": "stream",
          "text": [
            "<>:5: SyntaxWarning: invalid decimal literal\n",
            "<>:5: SyntaxWarning: invalid decimal literal\n",
            "<ipython-input-13-3f8f4ab1298d>:5: SyntaxWarning: invalid decimal literal\n",
            "  if numbers.count(num) >1and num not in duplicates:\n"
          ]
        }
      ],
      "source": [
        "numbers=[1,3,7,8,9,20,34,8,9,7,5]\n",
        "duplicates=[]\n",
        "\n",
        "for num in numbers:\n",
        "  if numbers.count(num) >1and num not in duplicates:\n",
        "    duplicates.append(num)\n",
        "print(\"Duplicate numbers are:\",duplicates)"
      ]
    },
    {
      "cell_type": "code",
      "execution_count": null,
      "metadata": {
        "id": "nU3JrJbmutEe"
      },
      "outputs": [],
      "source": []
    },
    {
      "cell_type": "code",
      "execution_count": null,
      "metadata": {
        "id": "CxiX-pS7wAV_"
      },
      "outputs": [],
      "source": []
    },
    {
      "cell_type": "code",
      "execution_count": null,
      "metadata": {
        "colab": {
          "background_save": true,
          "base_uri": "https://localhost:8080/"
        },
        "id": "ASR8D24QT13A",
        "outputId": "9b2419a0-209b-404e-84fe-a67ecac77ba4"
      },
      "outputs": [
        {
          "name": "stdout",
          "output_type": "stream",
          "text": [
            "1. add task\n",
            "2. edit task\n",
            "3. delete tasks\n",
            "4. exit\n"
          ]
        }
      ],
      "source": [
        "class TODolist():\n",
        "  def __init__(self):\n",
        "    self.tasks = []\n",
        "\n",
        "  def display_menu(self):\n",
        "    print(\"1. add task\")\n",
        "    print(\"2. edit task\")\n",
        "    print(\"3. delete tasks\")\n",
        "    print(\"4. exit\")\n",
        "\n",
        "  def add_task(self,task):\n",
        "   self.tasks.append(task)\n",
        "   print(\"task added\")\n",
        "\n",
        "   def edit_task(self):\n",
        "    if self.tasks:\n",
        "       self.display_tasks()\n",
        "       try:\n",
        "          task_index= int(input(\"enter the task index\")) -1\n",
        "          if 0<=task_index<len(self.tasks):\n",
        "             self.tasks[task_index] = new_task\n",
        "             new_task = input(\"enter the new task\")\n",
        "             print(\"task edited\")\n",
        "          else:\n",
        "            print(\"invalid index\")\n",
        "       except ValueError:\n",
        "           print(\"please enter a valid index\")\n",
        "    else:\n",
        "      print(\"no tasks available to edit\")\n",
        "   def delete_task(self):\n",
        "    if self.tasks:\n",
        "      self.display_tasks()\n",
        "      try:\n",
        "        task_index = int(input(\"enter the task index\"))-1\n",
        "        if 0<=task_index<len(self.tasks):\n",
        "           self.tasks.pop[task_index]\n",
        "           print(\"task deleted\")\n",
        "        else:\n",
        "          print(\"invalid index\")\n",
        "      except ValueError:\n",
        "        print(\"please enter a valid index\")\n",
        "    else:\n",
        "      print(\"no tasks available to delete\")\n",
        "  def display_tasks(self):\n",
        "    print(\"Tasks:\")\n",
        "    #self.display_tasks()\n",
        "    for index,task in enumerate(self.tasks):\n",
        "      print(f\"{index+1}.{task}\")\n",
        "  def run(self):\n",
        "    while True:\n",
        "      self.display_menu()\n",
        "      choice = input(\"enter your choice:\")\n",
        "      if choice == \"1\":\n",
        "        task = input(\"enter the task:\")\n",
        "        self.add_task(task)\n",
        "      elif choice == \"2\":\n",
        "        self.edit_task()\n",
        "      elif choice == \"3\":\n",
        "        self.delete_task()\n",
        "      elif choice == \"4\":\n",
        "        print(\"exiting\")\n",
        "        break\n",
        "      else:\n",
        "        print(\"invalid choice\")\n",
        "\n",
        "todo_list = TODolist()\n",
        "todo_list.run()\n",
        "\n",
        "\n",
        "\n",
        "\n",
        "\n",
        "\n",
        "\n",
        "\n",
        "\n",
        "\n",
        "\n",
        "\n"
      ]
    },
    {
      "cell_type": "code",
      "source": [],
      "metadata": {
        "id": "JyLW-gB6Kpec"
      },
      "execution_count": null,
      "outputs": []
    },
    {
      "cell_type": "code",
      "source": [
        "import random\n",
        "def get_computer_choice():\n",
        "  choices = [\"rock\",\"paper\",\"scissors\"]\n",
        "  return random.choice(choices)\n",
        "def get_user_choice():\n",
        "  choice = input(\"Enter the rock,paper,scissors: \").lower()\n",
        "  print(\"invalid choice\")\n",
        "  while choice not in [\"rock\",\"paper\",\"scissors\"]:\n",
        "    choice = input(\"Enter the rock,paper,scissors\").lower()\n",
        "  return choice\n",
        "def determine_winner(user,computer):\n",
        "     print(\"you chose:\",{user})\n",
        "     print(\"computer chose:\",{computer})\n",
        "     if user == computer:\n",
        "       return \"its a tie!\"\n",
        "     elif (user== \"rock\" and computer== \"scissors\")or \\\n",
        "       (user == \"paper\" and computer == \"rock\") or \\\n",
        "       (user == \"scissors\" and computer == \"paper\"):\n",
        "       return \"you won!\"\n",
        "     else:\n",
        "       return \"computer won!\"\n",
        "\n",
        "def play_game():\n",
        "  user_choice = get_user_choice()\n",
        "  computer_choice = get_computer_choice()\n",
        "  result = determine_winner(user_choice,computer_choice)\n",
        "  print(result)\n",
        "\n",
        "if __name__ == \"__main__\":\n",
        "    play_game()"
      ],
      "metadata": {
        "colab": {
          "base_uri": "https://localhost:8080/"
        },
        "id": "Dhy-pTPQDxWL",
        "outputId": "ba4b898f-3fc1-4f3e-b3cd-3cfda5d0071d"
      },
      "execution_count": null,
      "outputs": [
        {
          "output_type": "stream",
          "name": "stdout",
          "text": [
            "Enter the rock,paper,scissors: paper\n",
            "invalid choice\n",
            "you chose: {'paper'}\n",
            "computer chose: {'rock'}\n",
            "you won!\n"
          ]
        }
      ]
    },
    {
      "cell_type": "code",
      "execution_count": null,
      "metadata": {
        "id": "XTCsGdWwyFup"
      },
      "outputs": [],
      "source": [
        "\n",
        "\n",
        "\n",
        "\n",
        "\n",
        "\n",
        "\n",
        "\n"
      ]
    }
  ],
  "metadata": {
    "colab": {
      "provenance": [],
      "authorship_tag": "ABX9TyNfwrDMAWfw04GMhhp9Jkvq",
      "include_colab_link": true
    },
    "kernelspec": {
      "display_name": "Python 3",
      "name": "python3"
    },
    "language_info": {
      "name": "python"
    }
  },
  "nbformat": 4,
  "nbformat_minor": 0
}