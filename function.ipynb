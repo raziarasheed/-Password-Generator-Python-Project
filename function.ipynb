{
  "nbformat": 4,
  "nbformat_minor": 0,
  "metadata": {
    "colab": {
      "provenance": [],
      "authorship_tag": "ABX9TyMTGDuYOBGtTt/OV2WKDLjG",
      "include_colab_link": true
    },
    "kernelspec": {
      "name": "python3",
      "display_name": "Python 3"
    },
    "language_info": {
      "name": "python"
    }
  },
  "cells": [
    {
      "cell_type": "markdown",
      "metadata": {
        "id": "view-in-github",
        "colab_type": "text"
      },
      "source": [
        "<a href=\"https://colab.research.google.com/github/raziarasheed/-Password-Generator-Python-Project/blob/main/function.ipynb\" target=\"_parent\"><img src=\"https://colab.research.google.com/assets/colab-badge.svg\" alt=\"Open In Colab\"/></a>"
      ]
    },
    {
      "cell_type": "code",
      "execution_count": null,
      "metadata": {
        "colab": {
          "base_uri": "https://localhost:8080/"
        },
        "id": "3l1n1alekv1v",
        "outputId": "5d103fb0-9cdd-4096-c958-9b84ba1c7ff9"
      },
      "outputs": [
        {
          "output_type": "stream",
          "name": "stdout",
          "text": [
            "Enter a number5\n",
            "userinput 5 at index 5\n"
          ]
        }
      ],
      "source": [
        "list1 =[2,8,9,7,6,5,67,90,7]\n",
        "userinputnumber = int(input(\"Enter a number\"))\n",
        "def number(userinputnumber,list1):\n",
        "  if(userinputnumber in list1):\n",
        "    index = list1.index(userinputnumber)\n",
        "    print(\"userinput\", userinputnumber, \"at index\",index)\n",
        "  else:\n",
        "    print(\"userinputnumber not found\")\n",
        "number(userinputnumber,list1)"
      ]
    }
  ]
}