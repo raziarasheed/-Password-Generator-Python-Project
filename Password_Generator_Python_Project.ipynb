{
  "nbformat": 4,
  "nbformat_minor": 0,
  "metadata": {
    "colab": {
      "provenance": [],
      "authorship_tag": "ABX9TyOIWu2+Hwv3ee05Lm++A7BQ",
      "include_colab_link": true
    },
    "kernelspec": {
      "name": "python3",
      "display_name": "Python 3"
    },
    "language_info": {
      "name": "python"
    }
  },
  "cells": [
    {
      "cell_type": "markdown",
      "metadata": {
        "id": "view-in-github",
        "colab_type": "text"
      },
      "source": [
        "<a href=\"https://colab.research.google.com/github/raziarasheed/-Password-Generator-Python-Project/blob/main/Password_Generator_Python_Project.ipynb\" target=\"_parent\"><img src=\"https://colab.research.google.com/assets/colab-badge.svg\" alt=\"Open In Colab\"/></a>"
      ]
    },
    {
      "cell_type": "code",
      "execution_count": 1,
      "metadata": {
        "colab": {
          "base_uri": "https://localhost:8080/"
        },
        "id": "sIACQEPCHZJ_",
        "outputId": "bcfcc94e-eff4-4a02-bf7e-972219aa2fd8"
      },
      "outputs": [
        {
          "output_type": "stream",
          "name": "stdout",
          "text": [
            "How many passwords would you like to generate? 5\n",
            "Enter the length of each password: 4\n",
            "\n",
            "Here are your passwords:\n",
            "4v,\\\n",
            "X['2\n",
            "RY9c\n",
            "<^d}\n",
            "<ukn\n"
          ]
        }
      ],
      "source": [
        "import random\n",
        "import string\n",
        "\n",
        "def generate_password(length):\n",
        "    characters = string.ascii_letters + string.digits + string.punctuation\n",
        "    password = ''.join(random.choice(characters) for _ in range(length))\n",
        "    return password\n",
        "\n",
        "def main():\n",
        "    try:\n",
        "        num_passwords = int(input(\"How many passwords would you like to generate? \"))\n",
        "        password_length = int(input(\"Enter the length of each password: \"))\n",
        "\n",
        "        print(\"\\nHere are your passwords:\")\n",
        "        for _ in range(num_passwords):\n",
        "            print(generate_password(password_length))\n",
        "    except ValueError:\n",
        "        print(\"Please enter valid integer numbers.\")\n",
        "\n",
        "if __name__ == \"__main__\":\n",
        "    main()"
      ]
    }
  ]
}