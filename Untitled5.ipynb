{
  "nbformat": 4,
  "nbformat_minor": 0,
  "metadata": {
    "colab": {
      "provenance": [],
      "mount_file_id": "1TazzSkH0Jj9g0qXA8HByGz7GLy1O9f9l",
      "authorship_tag": "ABX9TyM21Z5xbbrkA+VBtu9Gdm2F",
      "include_colab_link": true
    },
    "kernelspec": {
      "name": "python3",
      "display_name": "Python 3"
    },
    "language_info": {
      "name": "python"
    }
  },
  "cells": [
    {
      "cell_type": "markdown",
      "metadata": {
        "id": "view-in-github",
        "colab_type": "text"
      },
      "source": [
        "<a href=\"https://colab.research.google.com/github/raziarasheed/-Password-Generator-Python-Project/blob/main/Untitled5.ipynb\" target=\"_parent\"><img src=\"https://colab.research.google.com/assets/colab-badge.svg\" alt=\"Open In Colab\"/></a>"
      ]
    },
    {
      "cell_type": "code",
      "execution_count": null,
      "metadata": {
        "colab": {
          "base_uri": "https://localhost:8080/"
        },
        "id": "-A8BgsxueQDm",
        "outputId": "3c8817f9-e387-4f0e-8cac-68285892742e"
      },
      "outputs": [
        {
          "output_type": "stream",
          "name": "stdout",
          "text": [
            "Enter marks for subject 1: 45\n",
            "Enter marks for subject 2: 65\n",
            "Enter marks for subject 3: 85\n",
            "195\n",
            "Percentage:  65.0\n",
            "Grade: D\n"
          ]
        }
      ],
      "source": [
        "mark1= int(input(\"Enter marks for subject 1: \"))\n",
        "mark2= int(input(\"Enter marks for subject 2: \"))\n",
        "mark3= int(input(\"Enter marks for subject 3: \"))\n",
        "obtained_marks= mark1+mark2+mark3\n",
        "print(obtained_marks)\n",
        "percentage= (obtained_marks/300)*100\n",
        "print(\"Percentage: \",percentage)\n",
        "if percentage>90:\n",
        "    print(\"Grade: A\")\n",
        "elif percentage>80:\n",
        "    print(\"Grade: B\")\n",
        "elif percentage>70:\n",
        "    print(\"Grade: C\")\n",
        "elif percentage>60:\n",
        "    print(\"Grade: D\")\n",
        "else:\n",
        "    print(\"Grade: F\")"
      ]
    },
    {
      "cell_type": "code",
      "source": [
        "age= int(input(\"Enter your age: \"))\n",
        "if age>=18:\n",
        "    print(\"You are eligible to vote\")\n",
        "else:\n",
        "    print(\"You are not eligible to vote\")"
      ],
      "metadata": {
        "colab": {
          "base_uri": "https://localhost:8080/"
        },
        "id": "C-5zoM7vou1-",
        "outputId": "a28cdcfe-36dd-4766-b322-7f821de26110"
      },
      "execution_count": null,
      "outputs": [
        {
          "output_type": "stream",
          "name": "stdout",
          "text": [
            "Enter your age: 15\n",
            "You are not eligible to vote\n"
          ]
        }
      ]
    }
  ]
}